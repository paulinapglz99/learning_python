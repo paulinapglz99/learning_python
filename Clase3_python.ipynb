{
 "cells": [
  {
   "cell_type": "markdown",
   "id": "f11e863d-6c51-4033-b4e6-a3c9597cf5cc",
   "metadata": {},
   "source": [
    "# Clase 3"
   ]
  },
  {
   "cell_type": "markdown",
   "id": "ce19786a-928c-4d50-807e-59d544e29656",
   "metadata": {},
   "source": [
    "### Movimiento: FOR LOOPS, o ciclos FOR"
   ]
  },
  {
   "cell_type": "code",
   "execution_count": null,
   "id": "84407487-9a0f-4dcc-833d-cb4b109df73b",
   "metadata": {},
   "outputs": [],
   "source": []
  }
 ],
 "metadata": {
  "kernelspec": {
   "display_name": "Python 3 (ipykernel)",
   "language": "python",
   "name": "python3"
  },
  "language_info": {
   "codemirror_mode": {
    "name": "ipython",
    "version": 3
   },
   "file_extension": ".py",
   "mimetype": "text/x-python",
   "name": "python",
   "nbconvert_exporter": "python",
   "pygments_lexer": "ipython3",
   "version": "3.10.12"
  }
 },
 "nbformat": 4,
 "nbformat_minor": 5
}
