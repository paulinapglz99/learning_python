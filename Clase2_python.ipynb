{
 "cells": [
  {
   "cell_type": "markdown",
   "id": "fc6ae675-0655-429a-8bb5-eea7d60fd3c9",
   "metadata": {},
   "source": [
    "# Clase 2 : Python\n",
    "APPG\n"
   ]
  },
  {
   "cell_type": "markdown",
   "id": "649a4914-2f50-45b4-a911-8d8bca9d2765",
   "metadata": {},
   "source": [
    "## Entrada y salida de datos: INPUT, OUTPUT"
   ]
  },
  {
   "cell_type": "code",
   "execution_count": 4,
   "id": "5c3c6f56-c686-4a13-9868-9d4d7984a8a0",
   "metadata": {},
   "outputs": [],
   "source": [
    "#DONDE ESTOY? (pwd)"
   ]
  },
  {
   "cell_type": "code",
   "execution_count": 3,
   "id": "826755f3-63fb-422d-9478-5fc206e48945",
   "metadata": {},
   "outputs": [
    {
     "data": {
      "text/plain": [
       "'/home/tiamat/Documents/Python_Dojo'"
      ]
     },
     "execution_count": 3,
     "metadata": {},
     "output_type": "execute_result"
    }
   ],
   "source": [
    "pwd"
   ]
  },
  {
   "cell_type": "markdown",
   "id": "52abaad1-f254-40ee-b7a3-ac64764e53ea",
   "metadata": {},
   "source": [
    "%%writefile nos permite crear archivos desde py notebooks\n",
    "%%writefile no funciona si hay una linea comentada # en la misma celda o si no le pones el texto que quieres crear debajo, te dara un error que dice\n",
    "UsageError: %%writefile is a cell magic, but the cell body is empty."
   ]
  },
  {
   "cell_type": "code",
   "execution_count": 68,
   "id": "92ae5c27-e72b-4113-a71d-a5ebea74f14d",
   "metadata": {},
   "outputs": [
    {
     "name": "stdout",
     "output_type": "stream",
     "text": [
      "Overwriting texto_python.txt\n"
     ]
    }
   ],
   "source": [
    "%%writefile texto_python.txt\n",
    "\n",
    "cuack  <-- el texto que estas escribiendo en el archivo"
   ]
  },
  {
   "cell_type": "markdown",
   "id": "25e29ce4-bdbf-4a8b-baae-4e2c18ac1f8b",
   "metadata": {},
   "source": [
    "## Movimiento: OPEN\n",
    "Leer y escribir\n",
    "\n",
    "open() es una funcion que recibe como argumento el nombre del archivo, y nos regresa filehandlers.\n"
   ]
  },
  {
   "cell_type": "code",
   "execution_count": 69,
   "id": "ddf6c836-95b7-4e3e-a98e-9f85d2f4f74d",
   "metadata": {},
   "outputs": [
    {
     "data": {
      "text/plain": [
       "<_io.TextIOWrapper name='texto_python.txt' mode='r' encoding='UTF-8'>"
      ]
     },
     "execution_count": 69,
     "metadata": {},
     "output_type": "execute_result"
    }
   ],
   "source": [
    "f = open('texto_python.txt')\n",
    "f #<- este es el filehandler\n",
    "\n",
    "#es como un apuntador sofisticado, te dice donde esta, cuanto mide, cuanto pesa, en que codificacion esta"
   ]
  },
  {
   "cell_type": "markdown",
   "id": "7a132f42-f13c-4428-8576-e40ae3158dd5",
   "metadata": {},
   "source": [
    "## Tecnica: read() -> una cadena"
   ]
  },
  {
   "cell_type": "code",
   "execution_count": 67,
   "id": "653a01d4-d1b4-42bb-8a99-ca71d3b3efcc",
   "metadata": {},
   "outputs": [
    {
     "data": {
      "text/plain": [
       "''"
      ]
     },
     "execution_count": 67,
     "metadata": {},
     "output_type": "execute_result"
    }
   ],
   "source": [
    "#leer (f.read()) single string\n",
    "f.read()  #te regresa sin ningun formato la cadena, no interpreta nada, regresa tal cual loscaracteres del archivo\n",
    "#peroooo si lo corres mas de una vez, te va a dar un ''"
   ]
  },
  {
   "cell_type": "code",
   "execution_count": 60,
   "id": "83bef95b-2e79-408c-b16f-a0d9c130bbe2",
   "metadata": {},
   "outputs": [
    {
     "data": {
      "text/plain": [
       "0"
      ]
     },
     "execution_count": 60,
     "metadata": {},
     "output_type": "execute_result"
    }
   ],
   "source": [
    "#TEnemos que regresar al inicio del archivo: f.seek(0)\n",
    "\n",
    "f.seek(0)"
   ]
  },
  {
   "cell_type": "code",
   "execution_count": 70,
   "id": "a4e07a79-4e54-4446-a302-d3ca8c415871",
   "metadata": {},
   "outputs": [
    {
     "data": {
      "text/plain": [
       "'\\ncuack  <-- el texto que estas escribiendo en el archivo\\n'"
      ]
     },
     "execution_count": 70,
     "metadata": {},
     "output_type": "execute_result"
    }
   ],
   "source": [
    "#Intentemos leer de nuevo\n",
    "f.read()"
   ]
  },
  {
   "cell_type": "code",
   "execution_count": 35,
   "id": "4cc2ba19-21a2-456b-9440-6b287db6e186",
   "metadata": {},
   "outputs": [
    {
     "data": {
      "text/plain": [
       "'\\ncuack  <-- el texto que estas escribiendo en el archivo\\n'"
      ]
     },
     "execution_count": 35,
     "metadata": {},
     "output_type": "execute_result"
    }
   ],
   "source": [
    "#pero pues q flojera andar diciendo eeey regresate, asi que podemos guardar el string en una variable ('\\n')\n",
    "linea_de_texto = f.read()\n",
    "linea_de_texto"
   ]
  },
  {
   "cell_type": "code",
   "execution_count": 38,
   "id": "04c9ed89-3ffc-4d97-be62-0981baebcecd",
   "metadata": {},
   "outputs": [],
   "source": [
    "#Cerrar el archivo f.close()\n",
    "#el filehandler se queda por ahi abierto, en la memoria de python. Si no queremos usarlo mas, podemos cerrarlo\n",
    "#cerrar el archivo f\n",
    "\n",
    "f.close()"
   ]
  },
  {
   "cell_type": "markdown",
   "id": "7cb3c961-3061-49c8-98d1-4e450b5673fc",
   "metadata": {},
   "source": [
    "## Tecnica: readlines() -> una lista"
   ]
  },
  {
   "cell_type": "code",
   "execution_count": 46,
   "id": "42ad23b4-c0a5-40a6-8d10-6f81e3199565",
   "metadata": {},
   "outputs": [],
   "source": [
    "#Checar lo nuevo (Abrir y leer de nuevo)\n",
    "#readlines lee las lineas\n",
    "\n",
    "f= open('texto_python.txt')\n",
    "lineas = f.readlines()\n",
    "lineas\n",
    "\n",
    "f.close()"
   ]
  },
  {
   "cell_type": "code",
   "execution_count": 47,
   "id": "e6488624-4530-4f46-ac91-c0f3d8dcaca7",
   "metadata": {},
   "outputs": [
    {
     "name": "stdout",
     "output_type": "stream",
     "text": [
      "['\\n', 'cuack  <-- el texto que estas escribiendo en el archivo\\n']\n"
     ]
    }
   ],
   "source": [
    "print(lineas) #lineas es una lista\n"
   ]
  },
  {
   "cell_type": "markdown",
   "id": "a12e9ffc-c01e-47da-a2c1-3047f736df4a",
   "metadata": {},
   "source": [
    "## Movimiento: WITH OPEN\n",
    "Otra forma de leer archivos que cierra automaticamente el archivo\n",
    "open() tiene varias opciones \n",
    "\n",
    "with open() as f:     #with 'el resultado de esta funcion' as (como un objeto) f \n",
    "   lines = f.readlines()\n",
    "\n",
    "  mode = r is read only\n",
    "  mode = w is write only\n",
    "  mode = a is append only \n",
    "  mode = 'r+' is reading and then writing\n",
    "  mode = 'w+' is writing and reading (overwrites existing files or creates a new file!)\n",
    "\n",
    "en python, para hacer cosas en bloque usa identacion (otros lenguajes de programa usan {} o parentesis), que son 4 espacios o un TAB\n",
    "la identacion nos sirve para identificar que cosas pertenecen a que bloque.\n",
    "ademas, con with open, ya no necesitas \n",
    "\n",
    "NOTE:  #Append-only is a property of computer data storage such that new data can be appended to the storage, but where existing data is immutable."
   ]
  },
  {
   "cell_type": "code",
   "execution_count": 72,
   "id": "3d7dec41-e089-4f49-9568-39ef617a7297",
   "metadata": {},
   "outputs": [],
   "source": [
    "with open('texto_python.txt', mode = 'r') as f:    \n",
    "    lines = f.readlines()\n",
    "\n",
    "U = 23 #este ya es otro bloque\n",
    "\n",
    "#Ventajas de with open(), no necesitamos cerrar el archivo :)"
   ]
  },
  {
   "cell_type": "code",
   "execution_count": 73,
   "id": "40c72ad3-c71c-453e-a722-7aca1bad84cd",
   "metadata": {},
   "outputs": [
    {
     "name": "stdout",
     "output_type": "stream",
     "text": [
      "['\\n', 'cuack  <-- el texto que estas escribiendo en el archivo\\n']\n"
     ]
    }
   ],
   "source": [
    "print(lines)"
   ]
  },
  {
   "cell_type": "markdown",
   "id": "648f1b7e-4e42-4ee8-a8b6-4a309790041e",
   "metadata": {},
   "source": [
    "# Tecnica: write()"
   ]
  },
  {
   "cell_type": "code",
   "execution_count": 74,
   "id": "bf4468f7-9ef4-4677-b6e6-a676c1027c52",
   "metadata": {},
   "outputs": [],
   "source": [
    "#APPEND\n",
    "#f.write() escribe cosas en nuestro archivo, si usamos el modo append only\n",
    "#Append-only is a property of computer data storage such that new data can be appended to the storage, but where existing data is immutable.\n",
    "\n",
    "with open('texto_python.txt', mode = 'a') as f:\n",
    "    f.write('PAAAITON!!!!AAAAAAAAAAAAA')    #woowwwww :D, es porque usamos la opcion a"
   ]
  },
  {
   "cell_type": "code",
   "execution_count": 75,
   "id": "de4f615f-13bd-4c3d-908d-0e2f570bdcb1",
   "metadata": {},
   "outputs": [],
   "source": [
    "#f.write() escribe cosas en nuestro archivo, si usamos el modo w, de write only\n",
    "#w va a sobreescribir\n",
    "\n",
    "with open('texto_python.txt', mode = 'w') as f:\n",
    "    f.write('ay unu') #borramos lo que habiamos escrito y ponemos esto"
   ]
  },
  {
   "cell_type": "code",
   "execution_count": null,
   "id": "3e0299ba-15b4-43c0-9610-afa01a609510",
   "metadata": {},
   "outputs": [],
   "source": [
    "#Checar la sobreescritura (Modo 2) (Abrir y leer de nuevo)\n",
    "with open('texto_python.txt') as f:\n"
   ]
  },
  {
   "cell_type": "markdown",
   "id": "0345b0f1-d49f-499a-90f9-95eaea6c77ca",
   "metadata": {},
   "source": [
    "## Movimiento: INPUT\n",
    "Input del usuario\n"
   ]
  },
  {
   "cell_type": "code",
   "execution_count": 76,
   "id": "baf94f9f-bb0e-427e-9859-64df27f3c97f",
   "metadata": {},
   "outputs": [
    {
     "name": "stdin",
     "output_type": "stream",
     "text": [
      "de k ekipo eres? rompecorazones\n"
     ]
    },
    {
     "data": {
      "text/plain": [
       "'rompecorazones'"
      ]
     },
     "execution_count": 76,
     "metadata": {},
     "output_type": "execute_result"
    }
   ],
   "source": [
    "input('de k ekipo eres?')"
   ]
  },
  {
   "cell_type": "code",
   "execution_count": 78,
   "id": "5c4c6104-1f76-414e-8ebe-b9c3341b3b5d",
   "metadata": {},
   "outputs": [
    {
     "name": "stdin",
     "output_type": "stream",
     "text": [
      "que platillo desea ordenar? ravioles\n"
     ]
    }
   ],
   "source": [
    "#podemos asignar esto a una variable para imprimirlo despues\n",
    "respuesta = input('que platillo desea ordenar?')"
   ]
  },
  {
   "cell_type": "code",
   "execution_count": 80,
   "id": "42156a1d-3bf1-457d-b986-0eb5c506c09f",
   "metadata": {},
   "outputs": [
    {
     "data": {
      "text/plain": [
       "'ravioles'"
      ]
     },
     "execution_count": 80,
     "metadata": {},
     "output_type": "execute_result"
    }
   ],
   "source": [
    "respuesta"
   ]
  },
  {
   "cell_type": "markdown",
   "id": "be8e6e63-c3cf-4f39-bf04-d0388ec40932",
   "metadata": {},
   "source": [
    "CUIDADO! NO IGNOREN A LA SERPIENTE... (menos dos veces!)"
   ]
  },
  {
   "cell_type": "code",
   "execution_count": 82,
   "id": "7ed98af6-8541-42e2-87bf-c7a38fee29a9",
   "metadata": {},
   "outputs": [
    {
     "name": "stdin",
     "output_type": "stream",
     "text": [
      "Me vas a ignorar? \n"
     ]
    },
    {
     "data": {
      "text/plain": [
       "''"
      ]
     },
     "execution_count": 82,
     "metadata": {},
     "output_type": "execute_result"
    }
   ],
   "source": [
    "input('Me vas a ignorar?')"
   ]
  },
  {
   "cell_type": "code",
   "execution_count": null,
   "id": "84b84e1b-aa98-461e-901a-b55ec962d363",
   "metadata": {},
   "outputs": [],
   "source": [
    "#Si ignoras un input, deja un proceso colgado y tienes que reiniciar el kernel T.T"
   ]
  },
  {
   "cell_type": "markdown",
   "id": "d50935f1-a91c-4585-a791-6c51d0e29751",
   "metadata": {},
   "source": [
    "# RETO"
   ]
  },
  {
   "cell_type": "markdown",
   "id": "46a7aec5-8455-4ca3-bc25-1432cf6ce6ed",
   "metadata": {},
   "source": [
    "1) Pide al usuario que escriba un haiku con 3 preguntas separadas\n",
    "2) Guarda ese poema en un archivo\n",
    "3) Lee el archivo y despliegalo en la pantalla"
   ]
  },
  {
   "cell_type": "code",
   "execution_count": 120,
   "id": "2d394f36-6315-4614-a815-f4a22b5cad70",
   "metadata": {},
   "outputs": [],
   "source": [
    "#Primero abro un archivo donde voy a escribir"
   ]
  },
  {
   "cell_type": "code",
   "execution_count": 121,
   "id": "7aab0a96-9b39-4174-abac-9d4d39b12a04",
   "metadata": {},
   "outputs": [
    {
     "name": "stdin",
     "output_type": "stream",
     "text": [
      "linea1 del haiku Código en danza, /n\n"
     ]
    }
   ],
   "source": [
    "haiku1 = input('linea1 del haiku')"
   ]
  },
  {
   "cell_type": "code",
   "execution_count": 122,
   "id": "0b307bde-0205-4ea8-be45-839b35c933d1",
   "metadata": {},
   "outputs": [
    {
     "name": "stdin",
     "output_type": "stream",
     "text": [
      "linea1 del haiku2 ADN binario, /n\n"
     ]
    }
   ],
   "source": [
    "haiku2 = input('linea1 del haiku2')"
   ]
  },
  {
   "cell_type": "code",
   "execution_count": 123,
   "id": "4f2fb02e-b88d-4656-926e-65eb639c9c3d",
   "metadata": {},
   "outputs": [
    {
     "name": "stdin",
     "output_type": "stream",
     "text": [
      "linea 3 del haiku Vida en bytes fluye.\n"
     ]
    }
   ],
   "source": [
    "haiku3 = input('linea 3 del haiku')"
   ]
  },
  {
   "cell_type": "code",
   "execution_count": 124,
   "id": "60f5fce1-8ef6-471f-9a0d-b634c6c376aa",
   "metadata": {},
   "outputs": [
    {
     "name": "stdout",
     "output_type": "stream",
     "text": [
      "Código en danza, /nADN binario, /nVida en bytes fluye.\n"
     ]
    }
   ],
   "source": [
    "haiku = haiku1 + haiku2 +haiku3\n",
    "print(haiku)"
   ]
  },
  {
   "cell_type": "code",
   "execution_count": 125,
   "id": "e02d9506-aa74-444c-af01-4a646083f2d4",
   "metadata": {},
   "outputs": [
    {
     "data": {
      "text/plain": [
       "str"
      ]
     },
     "execution_count": 125,
     "metadata": {},
     "output_type": "execute_result"
    }
   ],
   "source": [
    "type(haiku)"
   ]
  },
  {
   "cell_type": "code",
   "execution_count": 129,
   "id": "38c5c93f-9e74-41af-8938-8819211edff1",
   "metadata": {},
   "outputs": [],
   "source": [
    "#aqui abrimos un nuevo archivo llamado haiku.txt, y lo escribimos \n",
    "with open('haiku.txt', mode = 'w') as f:    \n",
    "    f.write(haiku)"
   ]
  },
  {
   "cell_type": "code",
   "execution_count": 128,
   "id": "55399776-b143-40fd-9b71-9765b37dfeab",
   "metadata": {},
   "outputs": [
    {
     "data": {
      "text/plain": [
       "'Código en danza, /nADN binario, /nVida en bytes fluye.'"
      ]
     },
     "execution_count": 128,
     "metadata": {},
     "output_type": "execute_result"
    }
   ],
   "source": [
    "#Ahora queremos leer lo que ya escribimos\n",
    "\n",
    "file = open('haiku.txt')\n",
    "linea_de_texto = file.read()\n",
    "linea_de_texto"
   ]
  },
  {
   "cell_type": "code",
   "execution_count": 134,
   "id": "c7bbce42-0715-4e7e-a528-dc52789eda2f",
   "metadata": {},
   "outputs": [
    {
     "name": "stdin",
     "output_type": "stream",
     "text": [
      "linea1 del haiku Código en danza\n",
      "linea1 del haiku2 ADN binario,\n",
      "linea 3 del haiku Vida en bytes fluye.\n"
     ]
    }
   ],
   "source": [
    "#Ahora me gustaria hacerlo en un solo bloque de codigo\n",
    "\n",
    "with open('haiku.txt', mode = 'w') as f:\n",
    "    haiku1 = input('linea1 del haiku')\n",
    "    haiku2 = input('linea1 del haiku2')\n",
    "    haiku3 = input('linea 3 del haiku')\n",
    "    haiku = haiku1 + '\\n' + haiku2 + '\\n' + haiku3\n",
    "    f.write(haiku)"
   ]
  },
  {
   "cell_type": "code",
   "execution_count": 136,
   "id": "7f9ef36b-4bf4-46ec-b4d4-455d0cc6d9e6",
   "metadata": {},
   "outputs": [
    {
     "name": "stdout",
     "output_type": "stream",
     "text": [
      "Código en danza\n",
      "ADN binario,\n",
      "Vida en bytes fluye.\n"
     ]
    }
   ],
   "source": [
    "#Ahora queremos leer lo que ya escribimos\n",
    "\n",
    "haikupoem = open('haiku.txt')\n",
    "haikucito = haikupoem.read()\n",
    "print(haikucito)"
   ]
  },
  {
   "cell_type": "code",
   "execution_count": 139,
   "id": "370b1a3c-6787-4dd5-acd3-06fad939f3ed",
   "metadata": {},
   "outputs": [],
   "source": [
    "\n",
    "with open('chale.txt', mode = 'w') as f:\n",
    "    cuack = 'chale'\n",
    "    f.write(cuack)"
   ]
  }
 ],
 "metadata": {
  "kernelspec": {
   "display_name": "Python 3 (ipykernel)",
   "language": "python",
   "name": "python3"
  },
  "language_info": {
   "codemirror_mode": {
    "name": "ipython",
    "version": 3
   },
   "file_extension": ".py",
   "mimetype": "text/x-python",
   "name": "python",
   "nbconvert_exporter": "python",
   "pygments_lexer": "ipython3",
   "version": "3.10.12"
  }
 },
 "nbformat": 4,
 "nbformat_minor": 5
}
