{
 "cells": [
  {
   "cell_type": "markdown",
   "id": "c415282b-fb69-443e-8ed6-2df01cd0207f",
   "metadata": {},
   "source": [
    "# Clase 1\n",
    "### Esta es mi primera clase de Python, usando Jupyter notebooks \n",
    "15 feb 2024"
   ]
  },
  {
   "cell_type": "code",
   "execution_count": 11,
   "id": "f6553e22-5ab1-4be0-b92e-c879c15df7ae",
   "metadata": {},
   "outputs": [
    {
     "name": "stdout",
     "output_type": "stream",
     "text": [
      "Hola mundO\n",
      "No es\n"
     ]
    }
   ],
   "source": [
    "print(\"Hola mundO\")\n",
    "if 3+6 > 10:\n",
    "    print(\"si es\")\n",
    "else:\n",
    "     print(\"No es\")"
   ]
  },
  {
   "cell_type": "markdown",
   "id": "405f94ae-2142-45db-9fa8-cf6a0bfd582b",
   "metadata": {},
   "source": [
    "Este es un texto tipo markdown PMD?\n"
   ]
  },
  {
   "cell_type": "code",
   "execution_count": 1,
   "id": "9063432a-c693-4697-a304-22f53eaf0c2a",
   "metadata": {},
   "outputs": [
    {
     "data": {
      "text/plain": [
       "7"
      ]
     },
     "execution_count": 1,
     "metadata": {},
     "output_type": "execute_result"
    }
   ],
   "source": [
    "#Suma\n",
    "3+4"
   ]
  },
  {
   "cell_type": "code",
   "execution_count": 3,
   "id": "987d8663-1d4e-4321-9e18-2e648102c8b3",
   "metadata": {},
   "outputs": [
    {
     "data": {
      "text/plain": [
       "4"
      ]
     },
     "execution_count": 3,
     "metadata": {},
     "output_type": "execute_result"
    }
   ],
   "source": [
    "#Resta \n",
    "7-3"
   ]
  },
  {
   "cell_type": "code",
   "execution_count": 4,
   "id": "e4891368-5877-415a-a744-4b9c7ed9e39d",
   "metadata": {},
   "outputs": [
    {
     "data": {
      "text/plain": [
       "24"
      ]
     },
     "execution_count": 4,
     "metadata": {},
     "output_type": "execute_result"
    }
   ],
   "source": [
    "#Multiplicacion\n",
    "4*6"
   ]
  },
  {
   "cell_type": "code",
   "execution_count": 5,
   "id": "c58f30fa-d939-40b1-bdcb-494bff4f52bf",
   "metadata": {},
   "outputs": [
    {
     "data": {
      "text/plain": [
       "6.290909090909091"
      ]
     },
     "execution_count": 5,
     "metadata": {},
     "output_type": "execute_result"
    }
   ],
   "source": [
    "#Division\n",
    "346/55"
   ]
  },
  {
   "cell_type": "code",
   "execution_count": 8,
   "id": "1f2469c8-a2d4-46db-b2d9-ca20722a5982",
   "metadata": {},
   "outputs": [
    {
     "data": {
      "text/plain": [
       "2"
      ]
     },
     "execution_count": 8,
     "metadata": {},
     "output_type": "execute_result"
    }
   ],
   "source": [
    "#Floor (division sin residuo)\n",
    "7//3"
   ]
  },
  {
   "cell_type": "code",
   "execution_count": 10,
   "id": "2b8ca69a-930e-47a2-b063-3aaf5c15c759",
   "metadata": {},
   "outputs": [
    {
     "data": {
      "text/plain": [
       "6"
      ]
     },
     "execution_count": 10,
     "metadata": {},
     "output_type": "execute_result"
    }
   ],
   "source": [
    "#Modulo (residuo de la division)\n",
    "6%8"
   ]
  },
  {
   "cell_type": "markdown",
   "id": "b9dd5d0a-4d99-4481-8610-385d79669e73",
   "metadata": {},
   "source": [
    "## Como sabemos si un numero es par o non?\n"
   ]
  },
  {
   "cell_type": "code",
   "execution_count": 24,
   "id": "0b054c0d-7e5d-483b-81a8-9ec6811d6cbc",
   "metadata": {},
   "outputs": [
    {
     "name": "stdout",
     "output_type": "stream",
     "text": [
      "0\n",
      "Es non\n"
     ]
    }
   ],
   "source": [
    "# Como sabemos si un numero es par o non?\n",
    "\n",
    "numero = 10\n",
    "\n",
    "resultado = print(numero%2)\n",
    "\n",
    "if resultado != 0:\n",
    "    print('Es non')\n",
    "else:\n",
    "    print('es par')"
   ]
  },
  {
   "cell_type": "markdown",
   "id": "4b078754-6bd9-4a01-83cb-fc43376bf2d4",
   "metadata": {},
   "source": [
    "## Tecnica: Orden de operaciones"
   ]
  },
  {
   "cell_type": "markdown",
   "id": "fc447f10-5cdc-4bd1-a23f-fbf00be829c6",
   "metadata": {},
   "source": [
    "## Tecnica: Orden de operaciones\n",
    "El orden va como\n",
    "(), **, *, /, +. -\n"
   ]
  },
  {
   "cell_type": "code",
   "execution_count": 28,
   "id": "203142f9-5dde-4a7d-9788-336a7f7128cd",
   "metadata": {},
   "outputs": [
    {
     "data": {
      "text/plain": [
       "40"
      ]
     },
     "execution_count": 28,
     "metadata": {},
     "output_type": "execute_result"
    }
   ],
   "source": [
    "#Ejemplo\n",
    "4+6*6\n",
    "#Multiplica primero y despues suma "
   ]
  },
  {
   "cell_type": "code",
   "execution_count": 29,
   "id": "f6b48360-a69d-4c9b-8419-cae30dae7260",
   "metadata": {},
   "outputs": [
    {
     "data": {
      "text/plain": [
       "30"
      ]
     },
     "execution_count": 29,
     "metadata": {},
     "output_type": "execute_result"
    }
   ],
   "source": [
    "#uso de parentesis (calculadora)\n",
    "(2+4)*5"
   ]
  },
  {
   "cell_type": "code",
   "execution_count": 31,
   "id": "6e7285b9-3755-4f71-bfbb-b8f3dee46470",
   "metadata": {},
   "outputs": [
    {
     "data": {
      "text/plain": [
       "5.551115123125783e-17"
      ]
     },
     "execution_count": 31,
     "metadata": {},
     "output_type": "execute_result"
    }
   ],
   "source": [
    "#Suma que no da cero! ORAA\n",
    "#No sabia esto :0 \n",
    "#No sabe hacer aproximaciones con numeros flotantes\n",
    "(0.1 + 0.2)-0.3\n",
    "#PORRRR"
   ]
  },
  {
   "cell_type": "code",
   "execution_count": 33,
   "id": "312aa8fa-5fca-4cdb-b11e-ddcc2ccd48f8",
   "metadata": {},
   "outputs": [
    {
     "name": "stdout",
     "output_type": "stream",
     "text": [
      "5\n"
     ]
    }
   ],
   "source": [
    "#Asignacion de variables\n",
    "\n",
    "numero = 5\n",
    "print(numero)"
   ]
  },
  {
   "cell_type": "code",
   "execution_count": 36,
   "id": "775a75db-6e16-4e57-8aee-18d990540990",
   "metadata": {},
   "outputs": [
    {
     "name": "stdout",
     "output_type": "stream",
     "text": [
      "14\n"
     ]
    }
   ],
   "source": [
    "#Asignacion de sumas\n",
    "y= 9 + numero\n",
    "print(y)"
   ]
  },
  {
   "cell_type": "code",
   "execution_count": 38,
   "id": "633e0051-c122-42c1-adb5-201c25c13ac5",
   "metadata": {},
   "outputs": [
    {
     "name": "stdout",
     "output_type": "stream",
     "text": [
      "ahora y ya no es un numero, es un string\n"
     ]
    }
   ],
   "source": [
    "#Asignacion de texto\n",
    "y = 'ahora y ya no es un numero, es un string'\n",
    "print(y)"
   ]
  },
  {
   "cell_type": "code",
   "execution_count": 44,
   "id": "3ea315bb-e1bf-4959-8edf-e7aac6ce42f9",
   "metadata": {},
   "outputs": [
    {
     "name": "stdout",
     "output_type": "stream",
     "text": [
      "ola k ase\n"
     ]
    }
   ],
   "source": [
    "#Sumas de texto\n",
    "texto_1 = 'ola k'\n",
    "texto_2 = 'ase'\n",
    "\n",
    "texto_3 = texto_1 + ' ' + texto_2\n",
    "print(texto_3)"
   ]
  },
  {
   "cell_type": "code",
   "execution_count": 47,
   "id": "28bf8eda-4e4e-4fa3-82ec-466bb04f52d8",
   "metadata": {},
   "outputs": [
    {
     "name": "stdout",
     "output_type": "stream",
     "text": [
      "Castear44\n"
     ]
    },
    {
     "data": {
      "text/plain": [
       "'1234'"
      ]
     },
     "execution_count": 47,
     "metadata": {},
     "output_type": "execute_result"
    }
   ],
   "source": [
    "#sumas de texto y numeros\n",
    "\n",
    "#Si hago\n",
    "\n",
    "#Nos data error text_9 = 'Castear' + 44 \n",
    "\n",
    "#Pero podemos hacer\n",
    "\n",
    "texto_9 = 'Castear' + str(44)\n",
    "print(texto_9)\n",
    "\n",
    "str(1234)\n"
   ]
  },
  {
   "cell_type": "code",
   "execution_count": 78,
   "id": "545abd7a-a4e1-4c25-90e7-10c38a3d3e01",
   "metadata": {},
   "outputs": [
    {
     "name": "stdout",
     "output_type": "stream",
     "text": [
      "Imprime esto y ponle un salgo de linea \n",
      " y si no funciona? \n",
      "\n"
     ]
    }
   ],
   "source": [
    "#Saltos de linea a los textos\n",
    "\n",
    "textito = \"Imprime esto y ponle un salgo de linea \\n y si no funciona? \\n\"\n",
    "print(textito)"
   ]
  },
  {
   "cell_type": "code",
   "execution_count": 80,
   "id": "0d55a168-effe-4810-b443-26e364061eb9",
   "metadata": {},
   "outputs": [
    {
     "name": "stdout",
     "output_type": "stream",
     "text": [
      "Imprime esto y ponle un salgo de linea \n",
      " y si no funciona? \n",
      "Imprime esto y ponle un salgo de linea \n",
      " y si no funciona? \n",
      "Imprime esto y ponle un salgo de linea \n",
      " y si no funciona? \n",
      "Imprime esto y ponle un salgo de linea \n",
      " y si no funciona? \n",
      "Imprime esto y ponle un salgo de linea \n",
      " y si no funciona? \n",
      "Imprime esto y ponle un salgo de linea \n",
      " y si no funciona? \n",
      "\n"
     ]
    }
   ],
   "source": [
    "#acaso podemos multiplicar texto?\n",
    "\n",
    "textito_6 = textito * 6\n",
    "print(textito_6)\n",
    "\n",
    "#Si podemos :)"
   ]
  },
  {
   "cell_type": "code",
   "execution_count": 56,
   "id": "68ba0f60-b895-415a-aafd-cac2aba0f1ea",
   "metadata": {},
   "outputs": [
    {
     "name": "stdout",
     "output_type": "stream",
     "text": [
      "Mi ganancia neta fue de $84.0\n"
     ]
    }
   ],
   "source": [
    "mi_ganancia = 100\n",
    "impuesto = 0.16\n",
    "\n",
    "ganancia_neta = mi_ganancia - (mi_ganancia * impuesto)\n",
    "print(\"Mi ganancia neta fue de $\" + str(ganancia_neta))"
   ]
  },
  {
   "cell_type": "code",
   "execution_count": 63,
   "id": "9c97bb52-c763-4158-8db6-30aeef04af37",
   "metadata": {},
   "outputs": [
    {
     "name": "stdout",
     "output_type": "stream",
     "text": [
      "<class 'float'>\n"
     ]
    },
    {
     "data": {
      "text/plain": [
       "int"
      ]
     },
     "execution_count": 63,
     "metadata": {},
     "output_type": "execute_result"
    }
   ],
   "source": [
    "#Tecnica: tipos de variables: type()\n",
    "\n",
    "#type(texto)\n",
    "\n",
    "print(type(impuesto)) # para que imprima ambos\n",
    "type(mi_ganancia)"
   ]
  },
  {
   "cell_type": "markdown",
   "id": "33b6e3ee-4c09-467d-8d0a-78aec1dbabfb",
   "metadata": {},
   "source": [
    "## Reto"
   ]
  },
  {
   "cell_type": "code",
   "execution_count": 83,
   "id": "ffed40cb-2a36-4aa5-a226-ffac11d5fa5c",
   "metadata": {},
   "outputs": [
    {
     "name": "stdout",
     "output_type": "stream",
     "text": [
      "AAAAAAAAAAAAAAAAAAAATTTTTTTTTTTTTTTTTTTTTTTTTTTTTT\n"
     ]
    }
   ],
   "source": [
    "#En una sola linea de codigo, (one-liner) repite la letra A 20 veces y la letra T 30 veces\n",
    "ADN = (\"A\" * 20) + (\"T\" *30)\n",
    "print(ADN)"
   ]
  },
  {
   "cell_type": "code",
   "execution_count": 84,
   "id": "815c48b6-84f9-42c0-b321-94e4d66d62d3",
   "metadata": {},
   "outputs": [
    {
     "data": {
      "text/plain": [
       "50"
      ]
     },
     "execution_count": 84,
     "metadata": {},
     "output_type": "execute_result"
    }
   ],
   "source": [
    "#Tecnica: funcion len(), te dice la longitud de una cadena de caracteres\n",
    "\n",
    "len(ADN)"
   ]
  },
  {
   "cell_type": "code",
   "execution_count": 91,
   "id": "b65cca3a-41a3-42d6-8a5c-8d9a8109a8a6",
   "metadata": {},
   "outputs": [
    {
     "data": {
      "text/plain": [
       "'AAAAAAAAA'"
      ]
     },
     "execution_count": 91,
     "metadata": {},
     "output_type": "execute_result"
    }
   ],
   "source": [
    "#Tecnica:indexing and subindexing\n",
    "\n",
    "#texto[] (elemento)\n",
    "\n",
    "ADN[10] #me regresa el elemento 10 del string"
   ]
  },
  {
   "cell_type": "code",
   "execution_count": 96,
   "id": "c067d7b0-a1fa-48aa-8191-ca62b812ca35",
   "metadata": {},
   "outputs": [
    {
     "ename": "IndexError",
     "evalue": "string index out of range",
     "output_type": "error",
     "traceback": [
      "\u001b[0;31m---------------------------------------------------------------------------\u001b[0m",
      "\u001b[0;31mIndexError\u001b[0m                                Traceback (most recent call last)",
      "Cell \u001b[0;32mIn[96], line 2\u001b[0m\n\u001b[1;32m      1\u001b[0m \u001b[38;5;66;03m#Python indexa en 0, por lo que si le decimos\u001b[39;00m\n\u001b[0;32m----> 2\u001b[0m \u001b[43mADN\u001b[49m\u001b[43m[\u001b[49m\u001b[38;5;241;43m50\u001b[39;49m\u001b[43m]\u001b[49m\n",
      "\u001b[0;31mIndexError\u001b[0m: string index out of range"
     ]
    }
   ],
   "source": [
    "#Python indexa en 0, por lo que si le decimos\n",
    "ADN[50] #habra errorrrrrr, porque el indice empieza en 0, es decir que el ultimo caracter, el 50, es en realidad el 49"
   ]
  },
  {
   "cell_type": "code",
   "execution_count": 93,
   "id": "2968ba82-84ff-42dc-a7c0-9e8fa4aecaed",
   "metadata": {},
   "outputs": [
    {
     "data": {
      "text/plain": [
       "'AAAAAAAAA'"
      ]
     },
     "execution_count": 93,
     "metadata": {},
     "output_type": "execute_result"
    }
   ],
   "source": [
    "#texto[] (secuencia)\n",
    "ADN[1:10] #regresa los elementos del 1 al 10 de mi string"
   ]
  },
  {
   "cell_type": "code",
   "execution_count": 95,
   "id": "9a585c5e-365e-4f71-b293-5eced9e81438",
   "metadata": {},
   "outputs": [
    {
     "data": {
      "text/plain": [
       "'AAAATTTTTTTT'"
      ]
     },
     "execution_count": 95,
     "metadata": {},
     "output_type": "execute_result"
    }
   ],
   "source": [
    "#texto [::] (step/paso)\n",
    "#podemos decirle que inicie en una posicion, llegue a otra y se salte unas\n",
    "ADN[12:35:2]  #empieza en el 12, termina en el 35, de dos en dos (se salta uno)"
   ]
  },
  {
   "cell_type": "code",
   "execution_count": 124,
   "id": "d11ecd48-ef06-45d3-a956-e6eb13f55043",
   "metadata": {},
   "outputs": [
    {
     "data": {
      "text/plain": [
       "'oak'"
      ]
     },
     "execution_count": 124,
     "metadata": {},
     "output_type": "execute_result"
    }
   ],
   "source": [
    "#Tambien podemos decirle que empiece y termine en el default, es decir, en donde empieza y termina nuesta string y que vaya de tanto en tanto\n",
    "\n",
    "texto_1[::2]"
   ]
  },
  {
   "cell_type": "code",
   "execution_count": 98,
   "id": "6d6f99cb-c36a-470b-b2b3-e22fad75718b",
   "metadata": {},
   "outputs": [
    {
     "data": {
      "text/plain": [
       "'k'"
      ]
     },
     "execution_count": 98,
     "metadata": {},
     "output_type": "execute_result"
    }
   ],
   "source": [
    "#como saber el indice de mi ultimo elemento? \n",
    "#podria ser len() - 1 perooo py hace cosas mas sencillas\n",
    "\n",
    "#texto [-1] orden inverso\n",
    "\n",
    "texto_1[-1] "
   ]
  },
  {
   "cell_type": "markdown",
   "id": "ea8e346f-b695-421e-9b48-f5442c8bf80c",
   "metadata": {},
   "source": [
    "## Reto again\n"
   ]
  },
  {
   "cell_type": "code",
   "execution_count": 101,
   "id": "31868379-02e1-44eb-b6a6-1880bdbd3141",
   "metadata": {},
   "outputs": [
    {
     "name": "stdout",
     "output_type": "stream",
     "text": [
      "ACGTACGTACGTACGTACGTACGTACGTACGTACGTACGTACGTACGTACGTACGTACGTACGTACGTACGTACGTACGT\n"
     ]
    }
   ],
   "source": [
    "# K) Repite la cadena \"ACGT\" 20 veces y guardala en una variable llamada 'adn'\n",
    "\n",
    "adn = \"ACGT\" *20 \n",
    "\n",
    "print(adn)\n",
    "# A) obtener la letra 23, despues \n",
    "# B) "
   ]
  },
  {
   "cell_type": "code",
   "execution_count": 127,
   "id": "798a5994-1b34-4ca0-a508-9bcc94ff2ec9",
   "metadata": {},
   "outputs": [
    {
     "data": {
      "text/plain": [
       "'G'"
      ]
     },
     "execution_count": 127,
     "metadata": {},
     "output_type": "execute_result"
    }
   ],
   "source": [
    "# A) obtener la letra 23, despues \n",
    "\n",
    "adn[22]"
   ]
  },
  {
   "cell_type": "code",
   "execution_count": 128,
   "id": "377a19f9-c8ef-4c3a-9143-e88bce6ecc24",
   "metadata": {},
   "outputs": [
    {
     "data": {
      "text/plain": [
       "'ACGTACGTA'"
      ]
     },
     "execution_count": 128,
     "metadata": {},
     "output_type": "execute_result"
    }
   ],
   "source": [
    "#B) Obten las primeras 10 letras de adn\n",
    "adn[0:10]  #no toma la ultima letra, el ultimo indice"
   ]
  },
  {
   "cell_type": "code",
   "execution_count": 133,
   "id": "f0311722-18a7-4c83-9c40-5382a1787102",
   "metadata": {},
   "outputs": [
    {
     "data": {
      "text/plain": [
       "'GTACGTACGTACG'"
      ]
     },
     "execution_count": 133,
     "metadata": {},
     "output_type": "execute_result"
    }
   ],
   "source": [
    "#C) Obten de la letra 3 a la letra 15 de adn\n",
    "adn[2:15]"
   ]
  },
  {
   "cell_type": "code",
   "execution_count": 113,
   "id": "b0d0cea5-a249-451b-a352-83c17dfc289d",
   "metadata": {},
   "outputs": [
    {
     "data": {
      "text/plain": [
       "'TGCATGCATGCATGCATGCATGCATGCATGCATGCATGCATGCATGCATGCATGCATGCATGCATGCATGCATGCATGCA'"
      ]
     },
     "execution_count": 113,
     "metadata": {},
     "output_type": "execute_result"
    }
   ],
   "source": [
    "#D) Invierte la secuencia de ADN\n",
    "\n",
    "adn[-1::-1]"
   ]
  },
  {
   "cell_type": "code",
   "execution_count": 136,
   "id": "9ef9d35a-37a6-4e25-9f38-484868a832d8",
   "metadata": {},
   "outputs": [
    {
     "data": {
      "text/plain": [
       "'TTTTTTTTTTTTTTTTTTTT'"
      ]
     },
     "execution_count": 136,
     "metadata": {},
     "output_type": "execute_result"
    }
   ],
   "source": [
    "#E) Obten solo las letras T del adn\n",
    "#esto es lo unico que no entendi lol\n",
    "\n",
    "adn[::-4]"
   ]
  },
  {
   "cell_type": "markdown",
   "id": "0194efd1-820b-458d-86b8-9ccc69ccf184",
   "metadata": {},
   "source": [
    "## Tecnica: Mayusculas (upper) y minusculas (lower)"
   ]
  },
  {
   "cell_type": "code",
   "execution_count": 137,
   "id": "ba619c1d-66c1-42a7-9042-763262e76e89",
   "metadata": {},
   "outputs": [],
   "source": [
    "texto = 'Sando-Lab'"
   ]
  },
  {
   "cell_type": "code",
   "execution_count": 142,
   "id": "e4f6a16d-7b4b-487a-9025-be56f0682709",
   "metadata": {},
   "outputs": [
    {
     "name": "stdout",
     "output_type": "stream",
     "text": [
      "acgtacgtacgtacgtacgtacgtacgtacgtacgtacgtacgtacgtacgtacgtacgtacgtacgtacgtacgtacgt\n",
      "sando-lab\n"
     ]
    }
   ],
   "source": [
    "#Upper()\n",
    "print(adn.lower())\n",
    "print(texto.lower())\n"
   ]
  },
  {
   "cell_type": "markdown",
   "id": "4f6211e5-c7b5-4f21-a19a-020e1a5b55f7",
   "metadata": {},
   "source": [
    "# Tecnica: PRINT y FORMATOS"
   ]
  },
  {
   "cell_type": "code",
   "execution_count": 1,
   "id": "eca316f2-9e80-43f3-9737-113434879174",
   "metadata": {},
   "outputs": [
    {
     "name": "stdout",
     "output_type": "stream",
     "text": [
      "Hola INMEGEN 5\n"
     ]
    }
   ],
   "source": [
    "#Si asignamos vars primero\n",
    "\n",
    "numero = 5\n",
    "texto = 'Hola INMEGEN'\n",
    "print(texto, numero)"
   ]
  },
  {
   "cell_type": "code",
   "execution_count": 8,
   "id": "694af756-3eb8-4081-9adf-7443ae4b729f",
   "metadata": {},
   "outputs": [
    {
     "name": "stdout",
     "output_type": "stream",
     "text": [
      "Hola 0, \"cuack\"\n"
     ]
    }
   ],
   "source": [
    "#usando la f de formato podemos poner varios tipos de variables\n",
    "\n",
    "print(f'Hola {0}, \"cuack\"')"
   ]
  },
  {
   "cell_type": "code",
   "execution_count": 3,
   "id": "1f4f751b-b4fe-421e-b787-6d922f73a8f3",
   "metadata": {},
   "outputs": [
    {
     "name": "stdout",
     "output_type": "stream",
     "text": [
      "Cara de raviolis, pelo de espaguetti, y pies de pizza\n"
     ]
    }
   ],
   "source": [
    "#Podemos usar indices \n",
    "print('Cara de {1}, pelo de {2}, y pies de {0}'.format('pizza','raviolis','espaguetti')) #aqui no tenemos el f al inicio"
   ]
  },
  {
   "cell_type": "code",
   "execution_count": 14,
   "id": "591e6b99-dde4-41f3-a2f8-ac9c66f3a037",
   "metadata": {},
   "outputs": [
    {
     "name": "stdout",
     "output_type": "stream",
     "text": [
      "Cara de pizza, pelo de espaguetti, pies de pizza\n"
     ]
    }
   ],
   "source": [
    "cara = 'pizza'\n",
    "pelo = 'espaguetti'\n",
    "pies = 'pizza'\n",
    "\n",
    "print(f'Cara de {cara}, pelo de {pelo}, pies de {pies}')"
   ]
  },
  {
   "cell_type": "code",
   "execution_count": 12,
   "id": "2f4310c8-cd75-4acf-bc2f-9ac10d7813e8",
   "metadata": {},
   "outputs": [
    {
     "name": "stdout",
     "output_type": "stream",
     "text": [
      "3.142\n",
      "3.1415926536\n"
     ]
    }
   ],
   "source": [
    "#Formato de deicmales\n",
    "#print(f'El numero pi es pi:1.3f')\n",
    "\n",
    "pi = 3.14159265358979323846\n",
    "\n",
    "#Aqui le puedo decir cuantos decimales le quiero poner a mi numero flotante\n",
    "print(f'{pi:1.3f}') #con 3 decimales\n",
    "print(f'{pi:1.10f}') #con 10 decimales"
   ]
  },
  {
   "cell_type": "markdown",
   "id": "cbf1b54c-3567-49ff-ace7-6ccc50bdc1b9",
   "metadata": {},
   "source": [
    "# Reto \n",
    "##Usando todas las variables a continuacion, imprime la oracion:\n",
    "##\"Mi nombre es Elubiera Llano Ixiste, tengo cara ovalada y pies grandes. Tengo 23 anos y mido 1.73 m?\""
   ]
  },
  {
   "cell_type": "code",
   "execution_count": 21,
   "id": "e21a8072-3eae-4f2b-bdc7-330dedeed9fd",
   "metadata": {},
   "outputs": [
    {
     "name": "stdout",
     "output_type": "stream",
     "text": [
      "Mi nombre es Elubiera Llano Ixiste, tengo cara ovalada y pies grandes, tengo 23 anos y mido 1.73m\n"
     ]
    }
   ],
   "source": [
    "##\n",
    "nombre = \"Elubiera\"\n",
    "apellido_paterno= 'Llano'\n",
    "apellido_materno = 'Ixiste'\n",
    "tipo_cara = 'ovalada'\n",
    "tipo_pies = 'grandes'\n",
    "edad_1 = 19\n",
    "edad_2 = 4\n",
    "altura = '1.73'\n",
    "\n",
    "print(f'Mi nombre es {nombre} {apellido_paterno} {apellido_materno}, tengo cara {tipo_cara} y pies {tipo_pies}, tengo {edad_1 + edad_2} anos y mido {altura}m')"
   ]
  },
  {
   "cell_type": "markdown",
   "id": "365c4699-8196-4389-9a4d-f00bdd48872d",
   "metadata": {},
   "source": [
    "# Tecnica Mixta: Subindexing + sumando cadenas\n"
   ]
  },
  {
   "cell_type": "code",
   "execution_count": 29,
   "id": "825a9651-152c-444d-82f2-e045d8e78bd2",
   "metadata": {},
   "outputs": [
    {
     "name": "stdout",
     "output_type": "stream",
     "text": [
      "PysCo\n"
     ]
    }
   ],
   "source": [
    "lab = 'SysCompLab'\n",
    "nuevo_lab  = 'P' + lab[1:5]  #una P mas la segunda a la 4ta letra\n",
    "print(nuevo_lab)\n"
   ]
  },
  {
   "cell_type": "code",
   "execution_count": 41,
   "id": "8504abaf-66c4-4ff5-8b01-531612f7273e",
   "metadata": {},
   "outputs": [
    {
     "name": "stdout",
     "output_type": "stream",
     "text": [
      "Panda-Lab\n"
     ]
    }
   ],
   "source": [
    "#Convierte Sando-lab en Panda-Lab usando Slicing, Suma de cadenas y las variables a continuacion\n",
    "\n",
    "lab = 'Sando-Lab'\n",
    "cdn_1 = 'P'\n",
    "cdn_2 = 'a'\n",
    "\n",
    "nuevo_lab = cdn_1 + lab[1:4] + cdn_2 + lab[-4:]\n",
    "print(nuevo_lab)"
   ]
  },
  {
   "cell_type": "markdown",
   "id": "eba15ef0-dfb0-4c30-9f13-8d8df7072a3d",
   "metadata": {},
   "source": [
    "M3: Estructuras y Operadores"
   ]
  },
  {
   "cell_type": "code",
   "execution_count": 43,
   "id": "787ade6c-237b-4fc0-8b46-e286f79c60cd",
   "metadata": {},
   "outputs": [
    {
     "name": "stdout",
     "output_type": "stream",
     "text": [
      "['A', 'G']\n"
     ]
    }
   ],
   "source": [
    "# Estructura de datos\n",
    "\n",
    "#Movimiento: LISTAS[]\n",
    "\n",
    "#purinas/pirimidinas\n",
    "\n",
    "purinas = ['A', 'G']\n",
    "pirimidinas = ['T', 'C']\n",
    "\n",
    "print(purinas)"
   ]
  },
  {
   "cell_type": "code",
   "execution_count": 49,
   "id": "2e1de810-c008-444c-8d45-d264c78f8eeb",
   "metadata": {},
   "outputs": [
    {
     "data": {
      "text/plain": [
       "4"
      ]
     },
     "execution_count": 49,
     "metadata": {},
     "output_type": "execute_result"
    }
   ],
   "source": [
    "#indexing\n",
    "cochinero = ['pizza', 576, 'Avion', 4] #esto es una lista\n",
    "len(cochinero)"
   ]
  },
  {
   "cell_type": "code",
   "execution_count": 50,
   "id": "68cd7727-7dad-49e9-b9e8-3c7c05529826",
   "metadata": {},
   "outputs": [
    {
     "name": "stdout",
     "output_type": "stream",
     "text": [
      "['A', 'G', 'T', 'C']\n",
      "['pizza', 576, 'Avion', 4, 'A', 'G', 'T', 'C']\n"
     ]
    }
   ],
   "source": [
    "#Suma de listas\n",
    "bases_nitrogenadas = purinas + pirimidinas\n",
    "print(bases_nitrogenadas)\n",
    "\n",
    "#suma de listas\n",
    "cochinero = cochinero + bases_nitrogenadas\n",
    "print(cochinero)"
   ]
  },
  {
   "cell_type": "code",
   "execution_count": 72,
   "id": "6870fc17-db4f-4de4-bab7-6749ac0d7dfa",
   "metadata": {},
   "outputs": [
    {
     "name": "stdout",
     "output_type": "stream",
     "text": [
      "['apple', 'banana', 'cherry', 'orange']\n"
     ]
    }
   ],
   "source": [
    "#METODO: APPEND\n",
    "fruits = ['apple', 'banana', 'cherry']\n",
    "fruits.append(\"orange\") \n",
    "print(fruits)"
   ]
  },
  {
   "cell_type": "code",
   "execution_count": 57,
   "id": "740e28eb-30d1-4e5e-bee5-d6c1948a2680",
   "metadata": {},
   "outputs": [
    {
     "data": {
      "text/plain": [
       "'A'"
      ]
     },
     "execution_count": 57,
     "metadata": {},
     "output_type": "execute_result"
    }
   ],
   "source": [
    "# Tecnica: POP\n",
    "\n",
    "#Pop (quitar un elemento) lista.pop()\n",
    "lista = [\"A\",\"B\",\"C\"]\n",
    "\n",
    "lista.pop()  #.pop() por default va a sacar el ultimo caracter de una lista\n",
    "lista.pop(0) #pero le puedo indicar el elemento que quiero sacar de la lista"
   ]
  },
  {
   "cell_type": "code",
   "execution_count": 64,
   "id": "0410c238-2853-4e21-a14b-3d7d05d9eaca",
   "metadata": {},
   "outputs": [
    {
     "name": "stdout",
     "output_type": "stream",
     "text": [
      "['A', 'B', 'C', 'H', 'X']\n",
      "[1, 2, 2.5, 6, 56]\n"
     ]
    }
   ],
   "source": [
    "#Tecnica: SORT\n",
    "\n",
    "#sort(lista)\n",
    "\n",
    "lista = [\"H\",\"X\",\"B\",\"A\",\"C\"]\n",
    "lista.sort()\n",
    "print(lista)\n",
    "\n",
    "lista_num = [1, 56, 2.5, 2, 6]  #tambien se pueden combinar floats con ints\n",
    "lista_num.sort()\n",
    "print(lista_num)\n"
   ]
  },
  {
   "cell_type": "code",
   "execution_count": 67,
   "id": "628a2519-8ec8-4a3b-9cc1-168ac98bf1c4",
   "metadata": {},
   "outputs": [
    {
     "ename": "TypeError",
     "evalue": "'<' not supported between instances of 'int' and 'str'",
     "output_type": "error",
     "traceback": [
      "\u001b[0;31m---------------------------------------------------------------------------\u001b[0m",
      "\u001b[0;31mTypeError\u001b[0m                                 Traceback (most recent call last)",
      "Cell \u001b[0;32mIn[67], line 1\u001b[0m\n\u001b[0;32m----> 1\u001b[0m \u001b[43mcochinero\u001b[49m\u001b[38;5;241;43m.\u001b[39;49m\u001b[43msort\u001b[49m\u001b[43m(\u001b[49m\u001b[43m)\u001b[49m\n\u001b[1;32m      2\u001b[0m \u001b[38;5;28mprint\u001b[39m(cochinero)\n",
      "\u001b[0;31mTypeError\u001b[0m: '<' not supported between instances of 'int' and 'str'"
     ]
    }
   ],
   "source": [
    "cochinero.sort()\n",
    "print(cochinero)"
   ]
  },
  {
   "cell_type": "code",
   "execution_count": 70,
   "id": "773c2ab3-cf15-4c8d-81ba-b840f548d2ea",
   "metadata": {},
   "outputs": [
    {
     "name": "stdout",
     "output_type": "stream",
     "text": [
      "['C', 'T', 'G', 'A', 4, 'Avion', 576, 'pizza']\n",
      "['pizza', 576, 'Avion', 4, 'A', 'G', 'T', 'C']\n"
     ]
    }
   ],
   "source": [
    "#Tecnica: REVERSE\n",
    "\n",
    "#.reverse\n",
    "\n",
    "print(cochinero)\n",
    "cochinero.reverse()   #parecido al [-1], pero mas explicito lol\n",
    "print(cochinero)"
   ]
  },
  {
   "cell_type": "markdown",
   "id": "05438258-157c-40a2-b68f-e344c767e910",
   "metadata": {},
   "source": [
    "# RETO\n",
    "## Crea una lista de numeros enteros, una de letas, una de decimales y haz una lista de listas\n",
    "##"
   ]
  },
  {
   "cell_type": "code",
   "execution_count": 91,
   "id": "5971ae1f-ecbe-47af-ba0e-7338a6d21c69",
   "metadata": {},
   "outputs": [
    {
     "name": "stdout",
     "output_type": "stream",
     "text": [
      "[[1, 6, 7, 9, 10, 'H', 'X', 'B', 'A', 1.1, 5.6, 2.5, 1.2, 1.6]]\n"
     ]
    }
   ],
   "source": [
    "ints = [1,6,7,9,10]\n",
    "letras = [\"H\",\"X\",\"B\",\"A\"] \n",
    "decimales = [1.1, 5.6, 2.5, 1.2, 1.6]\n",
    "\n",
    "lista_enorme = []\n",
    "\n",
    "lista_enorme.append(ints + letras + decimales)\n",
    "\n",
    "print(lista_enorme)\n",
    "\n",
    "#Otra manera de hacerlo seria"
   ]
  },
  {
   "cell_type": "markdown",
   "id": "f50ba71e-5426-4a3c-9257-9d2c95e2cc49",
   "metadata": {},
   "source": [
    "# Movimiento: DICCIONARIOS"
   ]
  },
  {
   "cell_type": "code",
   "execution_count": null,
   "id": "f6d203ca-7f3d-4be8-918e-68f369ed482c",
   "metadata": {},
   "outputs": [],
   "source": []
  }
 ],
 "metadata": {
  "kernelspec": {
   "display_name": "Python 3 (ipykernel)",
   "language": "python",
   "name": "python3"
  },
  "language_info": {
   "codemirror_mode": {
    "name": "ipython",
    "version": 3
   },
   "file_extension": ".py",
   "mimetype": "text/x-python",
   "name": "python",
   "nbconvert_exporter": "python",
   "pygments_lexer": "ipython3",
   "version": "3.10.12"
  }
 },
 "nbformat": 4,
 "nbformat_minor": 5
}
